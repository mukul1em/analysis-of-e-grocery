{
 "cells": [
  {
   "cell_type": "markdown",
   "metadata": {},
   "source": [
    "# Analysis by- Mukul Rawat On E-Grocery Stores"
   ]
  },
  {
   "cell_type": "markdown",
   "metadata": {},
   "source": [
    "## 1 PRICING"
   ]
  },
  {
   "cell_type": "code",
   "execution_count": 68,
   "metadata": {},
   "outputs": [],
   "source": [
    "import pandas as pd\n",
    "data=pd.DataFrame(columns=['SHOPPING_LIST','COMPANY','MRP','DMART','BIGBASKET','GROFERS'])\n",
    "SHOPPING_LIST=['colgate toothpste 2X200g','quaker oats','Dove soap 3X100g','dabur honey 500g','panetene shampoo 675g','fortune sunflower oil 5ltrs','himalaya baby cream 200ml','nivea deo 150ml','fiama di wills gel 250ml','pril dishwash 750ml','stayfree secure 20 pads','saffola active 1 ltr']"
   ]
  },
  {
   "cell_type": "code",
   "execution_count": 69,
   "metadata": {},
   "outputs": [
    {
     "data": {
      "text/html": [
       "<div>\n",
       "<style scoped>\n",
       "    .dataframe tbody tr th:only-of-type {\n",
       "        vertical-align: middle;\n",
       "    }\n",
       "\n",
       "    .dataframe tbody tr th {\n",
       "        vertical-align: top;\n",
       "    }\n",
       "\n",
       "    .dataframe thead th {\n",
       "        text-align: right;\n",
       "    }\n",
       "</style>\n",
       "<table border=\"1\" class=\"dataframe\">\n",
       "  <thead>\n",
       "    <tr style=\"text-align: right;\">\n",
       "      <th></th>\n",
       "      <th>SHOPPING_LIST</th>\n",
       "      <th>COMPANY</th>\n",
       "      <th>MRP</th>\n",
       "      <th>DMART</th>\n",
       "      <th>BIGBASKET</th>\n",
       "      <th>GROFERS</th>\n",
       "    </tr>\n",
       "  </thead>\n",
       "  <tbody>\n",
       "  </tbody>\n",
       "</table>\n",
       "</div>"
      ],
      "text/plain": [
       "Empty DataFrame\n",
       "Columns: [SHOPPING_LIST, COMPANY, MRP, DMART, BIGBASKET, GROFERS]\n",
       "Index: []"
      ]
     },
     "execution_count": 69,
     "metadata": {},
     "output_type": "execute_result"
    }
   ],
   "source": [
    "data.head()"
   ]
  },
  {
   "cell_type": "code",
   "execution_count": 70,
   "metadata": {},
   "outputs": [],
   "source": [
    "data.SHOPPING_LIST=['colgate toothpste 2X200g','quaker oats','Dove soap 3X100g','dabur honey 500g','panetene shampoo 675g','fortune sunflower oil 5ltrs','himalaya baby cream 200ml','nivea deo 150ml','fiama di wills gel 250ml','pril dishwash 750ml','stayfree secure 20 pads','saffola active 1 ltr']"
   ]
  },
  {
   "cell_type": "code",
   "execution_count": 71,
   "metadata": {},
   "outputs": [],
   "source": [
    "data.COMPANY=['colgate','pepsico','unilever','dabur','p&g','adani','himalaya','biesdorf','itc','jyothy','j&j','marico']"
   ]
  },
  {
   "cell_type": "code",
   "execution_count": 72,
   "metadata": {},
   "outputs": [],
   "source": [
    "MRP=[176,260,175,199,395,665,235,190,199,160,74,135]\n",
    "data.MRP=MRP"
   ]
  },
  {
   "cell_type": "code",
   "execution_count": 73,
   "metadata": {},
   "outputs": [],
   "source": [
    "dmart=[136,184,140,177,257,505,165,165,139,145,66,108]\n",
    "data.DMART=dmart"
   ]
  },
  {
   "cell_type": "code",
   "execution_count": 74,
   "metadata": {},
   "outputs": [],
   "source": [
    "bigbasket=[136,184,140,177,257,505,165,165,139,145,66,108]\n",
    "data.BIGBASKET=bigbasket"
   ]
  },
  {
   "cell_type": "code",
   "execution_count": 75,
   "metadata": {},
   "outputs": [],
   "source": [
    "groffers=[157,204,145,177,236,525,191,182,137,134,69,118]\n",
    "data.GROFERS=groffers"
   ]
  },
  {
   "cell_type": "code",
   "execution_count": 76,
   "metadata": {},
   "outputs": [
    {
     "data": {
      "text/html": [
       "<div>\n",
       "<style scoped>\n",
       "    .dataframe tbody tr th:only-of-type {\n",
       "        vertical-align: middle;\n",
       "    }\n",
       "\n",
       "    .dataframe tbody tr th {\n",
       "        vertical-align: top;\n",
       "    }\n",
       "\n",
       "    .dataframe thead th {\n",
       "        text-align: right;\n",
       "    }\n",
       "</style>\n",
       "<table border=\"1\" class=\"dataframe\">\n",
       "  <thead>\n",
       "    <tr style=\"text-align: right;\">\n",
       "      <th></th>\n",
       "      <th>SHOPPING_LIST</th>\n",
       "      <th>COMPANY</th>\n",
       "      <th>MRP</th>\n",
       "      <th>DMART</th>\n",
       "      <th>BIGBASKET</th>\n",
       "      <th>GROFERS</th>\n",
       "    </tr>\n",
       "  </thead>\n",
       "  <tbody>\n",
       "    <tr>\n",
       "      <th>0</th>\n",
       "      <td>colgate toothpste 2X200g</td>\n",
       "      <td>colgate</td>\n",
       "      <td>176</td>\n",
       "      <td>136</td>\n",
       "      <td>136</td>\n",
       "      <td>157</td>\n",
       "    </tr>\n",
       "    <tr>\n",
       "      <th>1</th>\n",
       "      <td>quaker oats</td>\n",
       "      <td>pepsico</td>\n",
       "      <td>260</td>\n",
       "      <td>184</td>\n",
       "      <td>184</td>\n",
       "      <td>204</td>\n",
       "    </tr>\n",
       "    <tr>\n",
       "      <th>2</th>\n",
       "      <td>Dove soap 3X100g</td>\n",
       "      <td>unilever</td>\n",
       "      <td>175</td>\n",
       "      <td>140</td>\n",
       "      <td>140</td>\n",
       "      <td>145</td>\n",
       "    </tr>\n",
       "    <tr>\n",
       "      <th>3</th>\n",
       "      <td>dabur honey 500g</td>\n",
       "      <td>dabur</td>\n",
       "      <td>199</td>\n",
       "      <td>177</td>\n",
       "      <td>177</td>\n",
       "      <td>177</td>\n",
       "    </tr>\n",
       "    <tr>\n",
       "      <th>4</th>\n",
       "      <td>panetene shampoo 675g</td>\n",
       "      <td>p&amp;g</td>\n",
       "      <td>395</td>\n",
       "      <td>257</td>\n",
       "      <td>257</td>\n",
       "      <td>236</td>\n",
       "    </tr>\n",
       "    <tr>\n",
       "      <th>5</th>\n",
       "      <td>fortune sunflower oil 5ltrs</td>\n",
       "      <td>adani</td>\n",
       "      <td>665</td>\n",
       "      <td>505</td>\n",
       "      <td>505</td>\n",
       "      <td>525</td>\n",
       "    </tr>\n",
       "    <tr>\n",
       "      <th>6</th>\n",
       "      <td>himalaya baby cream 200ml</td>\n",
       "      <td>himalaya</td>\n",
       "      <td>235</td>\n",
       "      <td>165</td>\n",
       "      <td>165</td>\n",
       "      <td>191</td>\n",
       "    </tr>\n",
       "    <tr>\n",
       "      <th>7</th>\n",
       "      <td>nivea deo 150ml</td>\n",
       "      <td>biesdorf</td>\n",
       "      <td>190</td>\n",
       "      <td>165</td>\n",
       "      <td>165</td>\n",
       "      <td>182</td>\n",
       "    </tr>\n",
       "    <tr>\n",
       "      <th>8</th>\n",
       "      <td>fiama di wills gel 250ml</td>\n",
       "      <td>itc</td>\n",
       "      <td>199</td>\n",
       "      <td>139</td>\n",
       "      <td>139</td>\n",
       "      <td>137</td>\n",
       "    </tr>\n",
       "    <tr>\n",
       "      <th>9</th>\n",
       "      <td>pril dishwash 750ml</td>\n",
       "      <td>jyothy</td>\n",
       "      <td>160</td>\n",
       "      <td>145</td>\n",
       "      <td>145</td>\n",
       "      <td>134</td>\n",
       "    </tr>\n",
       "    <tr>\n",
       "      <th>10</th>\n",
       "      <td>stayfree secure 20 pads</td>\n",
       "      <td>j&amp;j</td>\n",
       "      <td>74</td>\n",
       "      <td>66</td>\n",
       "      <td>66</td>\n",
       "      <td>69</td>\n",
       "    </tr>\n",
       "    <tr>\n",
       "      <th>11</th>\n",
       "      <td>saffola active 1 ltr</td>\n",
       "      <td>marico</td>\n",
       "      <td>135</td>\n",
       "      <td>108</td>\n",
       "      <td>108</td>\n",
       "      <td>118</td>\n",
       "    </tr>\n",
       "  </tbody>\n",
       "</table>\n",
       "</div>"
      ],
      "text/plain": [
       "                  SHOPPING_LIST   COMPANY  MRP  DMART  BIGBASKET  GROFERS\n",
       "0      colgate toothpste 2X200g   colgate  176    136        136      157\n",
       "1                   quaker oats   pepsico  260    184        184      204\n",
       "2              Dove soap 3X100g  unilever  175    140        140      145\n",
       "3              dabur honey 500g     dabur  199    177        177      177\n",
       "4         panetene shampoo 675g       p&g  395    257        257      236\n",
       "5   fortune sunflower oil 5ltrs     adani  665    505        505      525\n",
       "6     himalaya baby cream 200ml  himalaya  235    165        165      191\n",
       "7               nivea deo 150ml  biesdorf  190    165        165      182\n",
       "8      fiama di wills gel 250ml       itc  199    139        139      137\n",
       "9           pril dishwash 750ml    jyothy  160    145        145      134\n",
       "10      stayfree secure 20 pads       j&j   74     66         66       69\n",
       "11         saffola active 1 ltr    marico  135    108        108      118"
      ]
     },
     "execution_count": 76,
     "metadata": {},
     "output_type": "execute_result"
    }
   ],
   "source": [
    "data"
   ]
  },
  {
   "cell_type": "code",
   "execution_count": 77,
   "metadata": {},
   "outputs": [
    {
     "data": {
      "text/plain": [
       "(12, 6)"
      ]
     },
     "execution_count": 77,
     "metadata": {},
     "output_type": "execute_result"
    }
   ],
   "source": [
    "data.shape"
   ]
  },
  {
   "cell_type": "code",
   "execution_count": 78,
   "metadata": {},
   "outputs": [
    {
     "data": {
      "text/html": [
       "<div>\n",
       "<style scoped>\n",
       "    .dataframe tbody tr th:only-of-type {\n",
       "        vertical-align: middle;\n",
       "    }\n",
       "\n",
       "    .dataframe tbody tr th {\n",
       "        vertical-align: top;\n",
       "    }\n",
       "\n",
       "    .dataframe thead th {\n",
       "        text-align: right;\n",
       "    }\n",
       "</style>\n",
       "<table border=\"1\" class=\"dataframe\">\n",
       "  <thead>\n",
       "    <tr style=\"text-align: right;\">\n",
       "      <th></th>\n",
       "      <th>MRP</th>\n",
       "      <th>DMART</th>\n",
       "      <th>BIGBASKET</th>\n",
       "      <th>GROFERS</th>\n",
       "    </tr>\n",
       "  </thead>\n",
       "  <tbody>\n",
       "    <tr>\n",
       "      <th>count</th>\n",
       "      <td>12.000000</td>\n",
       "      <td>12.000000</td>\n",
       "      <td>12.000000</td>\n",
       "      <td>12.000000</td>\n",
       "    </tr>\n",
       "    <tr>\n",
       "      <th>mean</th>\n",
       "      <td>238.583333</td>\n",
       "      <td>182.250000</td>\n",
       "      <td>182.250000</td>\n",
       "      <td>189.583333</td>\n",
       "    </tr>\n",
       "    <tr>\n",
       "      <th>std</th>\n",
       "      <td>154.982379</td>\n",
       "      <td>111.432919</td>\n",
       "      <td>111.432919</td>\n",
       "      <td>114.277540</td>\n",
       "    </tr>\n",
       "    <tr>\n",
       "      <th>min</th>\n",
       "      <td>74.000000</td>\n",
       "      <td>66.000000</td>\n",
       "      <td>66.000000</td>\n",
       "      <td>69.000000</td>\n",
       "    </tr>\n",
       "    <tr>\n",
       "      <th>25%</th>\n",
       "      <td>171.250000</td>\n",
       "      <td>138.250000</td>\n",
       "      <td>138.250000</td>\n",
       "      <td>136.250000</td>\n",
       "    </tr>\n",
       "    <tr>\n",
       "      <th>50%</th>\n",
       "      <td>194.500000</td>\n",
       "      <td>155.000000</td>\n",
       "      <td>155.000000</td>\n",
       "      <td>167.000000</td>\n",
       "    </tr>\n",
       "    <tr>\n",
       "      <th>75%</th>\n",
       "      <td>241.250000</td>\n",
       "      <td>178.750000</td>\n",
       "      <td>178.750000</td>\n",
       "      <td>194.250000</td>\n",
       "    </tr>\n",
       "    <tr>\n",
       "      <th>max</th>\n",
       "      <td>665.000000</td>\n",
       "      <td>505.000000</td>\n",
       "      <td>505.000000</td>\n",
       "      <td>525.000000</td>\n",
       "    </tr>\n",
       "  </tbody>\n",
       "</table>\n",
       "</div>"
      ],
      "text/plain": [
       "              MRP       DMART   BIGBASKET     GROFERS\n",
       "count   12.000000   12.000000   12.000000   12.000000\n",
       "mean   238.583333  182.250000  182.250000  189.583333\n",
       "std    154.982379  111.432919  111.432919  114.277540\n",
       "min     74.000000   66.000000   66.000000   69.000000\n",
       "25%    171.250000  138.250000  138.250000  136.250000\n",
       "50%    194.500000  155.000000  155.000000  167.000000\n",
       "75%    241.250000  178.750000  178.750000  194.250000\n",
       "max    665.000000  505.000000  505.000000  525.000000"
      ]
     },
     "execution_count": 78,
     "metadata": {},
     "output_type": "execute_result"
    }
   ],
   "source": [
    "data.describe()"
   ]
  },
  {
   "cell_type": "code",
   "execution_count": 79,
   "metadata": {},
   "outputs": [
    {
     "data": {
      "text/plain": [
       "[176, 260, 175, 199, 395, 665, 235, 190, 199, 160, 74, 135]"
      ]
     },
     "execution_count": 79,
     "metadata": {},
     "output_type": "execute_result"
    }
   ],
   "source": [
    "MRP"
   ]
  },
  {
   "cell_type": "code",
   "execution_count": 161,
   "metadata": {},
   "outputs": [
    {
     "data": {
      "image/png": "[encoded data removed]",
      "text/plain": [
       "<Figure size 432x288 with 1 Axes>"
      ]
     },
     "metadata": {
      "needs_background": "light"
     },
     "output_type": "display_data"
    }
   ],
   "source": [
    "import matplotlib.pyplot as plt\n",
    "%matplotlib inline\n",
    "shopping_list=['col','oats','so','ho','sha','oil','cream','deo','di','dish','stay','saf']\n",
    "\n",
    "plt.bar(shopping_list,MRP)\n",
    "plt.title('product list vs price')\n",
    "plt.xlabel('products')\n",
    "plt.ylabel('mrp')\n",
    "plt.grid()\n",
    "plt.show()"
   ]
  },
  {
   "cell_type": "code",
   "execution_count": 160,
   "metadata": {},
   "outputs": [
    {
     "data": {
      "image/png": "[encoded data removed]",
      "text/plain": [
       "<Figure size 432x288 with 1 Axes>"
      ]
     },
     "metadata": {
      "needs_background": "light"
     },
     "output_type": "display_data"
    }
   ],
   "source": [
    "import matplotlib.pyplot as plt\n",
    "%matplotlib inline\n",
    "shopping_list=['col','oats','so','ho','sha','oil','cream','deo','di','dish','stay','saf']\n",
    "bigbasket=[136,184,140,177,257,505,165,165,139,145,66,108]\n",
    "plt.scatter(shopping_list,bigbasket)\n",
    "plt.title('product list vs price')\n",
    "plt.xlabel('products')\n",
    "plt.ylabel('bb')\n",
    "plt.grid()\n",
    "plt.show()\n"
   ]
  },
  {
   "cell_type": "code",
   "execution_count": 82,
   "metadata": {},
   "outputs": [],
   "source": [
    "mrp=data.MRP.sum()"
   ]
  },
  {
   "cell_type": "code",
   "execution_count": 83,
   "metadata": {},
   "outputs": [],
   "source": [
    "dmart=data.DMART.sum()\n",
    "bigbas=data.BIGBASKET.sum()\n",
    "gro=data.GROFERS.sum()"
   ]
  },
  {
   "cell_type": "code",
   "execution_count": 164,
   "metadata": {},
   "outputs": [
    {
     "data": {
      "text/plain": [
       "[2863, 2187, 2187, 2275]"
      ]
     },
     "execution_count": 164,
     "metadata": {},
     "output_type": "execute_result"
    }
   ],
   "source": [
    "totalmrp=[mrp,dmart,bigbas,gro]\n",
    "totalmrp"
   ]
  },
  {
   "cell_type": "code",
   "execution_count": 163,
   "metadata": {},
   "outputs": [
    {
     "data": {
      "image/png": "[encoded data removed]",
      "text/plain": [
       "<Figure size 432x288 with 1 Axes>"
      ]
     },
     "metadata": {},
     "output_type": "display_data"
    }
   ],
   "source": [
    "plt.pie(totalmrp,[0.1,0.1,0.1,0.1],labels=['mrp','Dmart','Bigbasket','Grofers'],autopct='%1.1f%%',shadow=True,startangle=90)\n",
    "plt.show()"
   ]
  },
  {
   "cell_type": "code",
   "execution_count": 159,
   "metadata": {},
   "outputs": [
    {
     "data": {
      "image/png": "[encoded data removed]",
      "text/plain": [
       "<Figure size 432x288 with 1 Axes>"
      ]
     },
     "metadata": {
      "needs_background": "light"
     },
     "output_type": "display_data"
    }
   ],
   "source": [
    "labels=['mrp','Dmart','Bigbasket','Grofers']\n",
    "clr=['red','blue','green','yellow']\n",
    "plt.bar(labels,totalmrp,align='center',alpha=0.6,color=clr)\n",
    "plt.grid()\n",
    "plt.show()"
   ]
  },
  {
   "cell_type": "code",
   "execution_count": 165,
   "metadata": {},
   "outputs": [
    {
     "data": {
      "text/plain": [
       "176"
      ]
     },
     "execution_count": 165,
     "metadata": {},
     "output_type": "execute_result"
    }
   ],
   "source": [
    "colgate_mrp=data.loc[0,'MRP']\n",
    "colgate_mrp"
   ]
  },
  {
   "cell_type": "code",
   "execution_count": 89,
   "metadata": {},
   "outputs": [],
   "source": [
    "colagate_dmart=data.loc[0,'DMART']\n",
    "colgate_bigba=data.loc[0,'BIGBASKET']\n",
    "colgate_gro=data.loc[0,'GROFERS']"
   ]
  },
  {
   "cell_type": "code",
   "execution_count": 209,
   "metadata": {},
   "outputs": [
    {
     "data": {
      "image/png": "[encoded data removed]",
      "text/plain": [
       "<Figure size 432x288 with 1 Axes>"
      ]
     },
     "metadata": {
      "needs_background": "light"
     },
     "output_type": "display_data"
    },
    {
     "name": "stdout",
     "output_type": "stream",
     "text": [
      "[176, 136, 136, 157]\n"
     ]
    }
   ],
   "source": [
    "colgate_price=[colgate_mrp,colagate_dmart,colgate_bigba,colgate_gro]\n",
    "labels=['mrp','Dmart','Bigbasket','Grofers']\n",
    "clr=['red','blue','green','yellow']\n",
    "\n",
    "plt.bar(labels,colgate_price,align='center',alpha=0.5,width=0.5,color=clr)\n",
    "plt.grid()\n",
    "plt.show()\n",
    "print(colgate_price)"
   ]
  },
  {
   "cell_type": "markdown",
   "metadata": {},
   "source": [
    "\n",
    "# 2 Discount plot"
   ]
  },
  {
   "cell_type": "code",
   "execution_count": 193,
   "metadata": {},
   "outputs": [],
   "source": [
    "#defininf discount function\n",
    "def discount_p(cp,sp):\n",
    "    discount=((cp-sp)/cp)*100\n",
    "    return discount"
   ]
  },
  {
   "cell_type": "code",
   "execution_count": 194,
   "metadata": {},
   "outputs": [
    {
     "name": "stdout",
     "output_type": "stream",
     "text": [
      "136\n",
      "136\n",
      "157\n"
     ]
    }
   ],
   "source": [
    "for i in colgate_price[1:]:\n",
    "    print(i)"
   ]
  },
  {
   "cell_type": "code",
   "execution_count": 196,
   "metadata": {},
   "outputs": [],
   "source": [
    "colgate_disc=list()\n",
    "for i in colgate_price[1:]:\n",
    "   colgate_disc.append(discount_p(colgate_mrp,i))"
   ]
  },
  {
   "cell_type": "code",
   "execution_count": 198,
   "metadata": {},
   "outputs": [
    {
     "data": {
      "text/plain": [
       "[22.727272727272727, 22.727272727272727, 10.795454545454545]"
      ]
     },
     "execution_count": 198,
     "metadata": {},
     "output_type": "execute_result"
    }
   ],
   "source": [
    "colgate_disc"
   ]
  },
  {
   "cell_type": "code",
   "execution_count": 208,
   "metadata": {},
   "outputs": [
    {
     "data": {
      "image/png": "[encoded data removed]",
      "text/plain": [
       "<Figure size 432x288 with 1 Axes>"
      ]
     },
     "metadata": {
      "needs_background": "light"
     },
     "output_type": "display_data"
    },
    {
     "name": "stdout",
     "output_type": "stream",
     "text": [
      "maximum discount on colgate is 22.727272727272727 percent at bigbasket\n"
     ]
    }
   ],
   "source": [
    "#discount plot\n",
    "label=['dmart','bigbasket','grofers']\n",
    "plt.bar(label,colgate_disc,color=['red','blue','green'],alpha=0.5,width=0.5)\n",
    "plt.xlabel('online mart')\n",
    "\n",
    "plt.ylabel('discount %age')\n",
    "plt.grid()\n",
    "plt.show()\n",
    "\n",
    "print('maximum discount on colgate is %s percent at bigbasket'%(max(colgate_disc)))"
   ]
  },
  {
   "cell_type": "code",
   "execution_count": 210,
   "metadata": {},
   "outputs": [
    {
     "data": {
      "image/png": "[encoded data removed]",
      "text/plain": [
       "<Figure size 432x288 with 1 Axes>"
      ]
     },
     "metadata": {
      "needs_background": "light"
     },
     "output_type": "display_data"
    },
    {
     "name": "stdout",
     "output_type": "stream",
     "text": [
      "maximum total discount is 23.61159622773315 at grofers\n"
     ]
    }
   ],
   "source": [
    "#discount on total mrp\n",
    "total_mrp=[]\n",
    "for i in totalmrp[1:]:\n",
    "    total_mrp.append(discount_p(mrp,i))\n",
    "    \n",
    "#plot for total discount\n",
    "plt.bar(label,total_mrp,color=['red','blue','green'],alpha=0.5,width=0.5)\n",
    "plt.xlabel('online store')\n",
    "plt.ylabel('discount percent')\n",
    "plt.grid()\n",
    "plt.show()\n",
    "\n",
    "print('maximum total discount is %s at %s'%(max(total_mrp),max(label)))\n"
   ]
  },
  {
   "cell_type": "markdown",
   "metadata": {},
   "source": [
    "# 3 Number of stores and number of cities"
   ]
  },
  {
   "cell_type": "code",
   "execution_count": 212,
   "metadata": {},
   "outputs": [
    {
     "data": {
      "image/png": "[encoded data removed]",
      "text/plain": [
       "<Figure size 432x288 with 1 Axes>"
      ]
     },
     "metadata": {
      "needs_background": "light"
     },
     "output_type": "display_data"
    }
   ],
   "source": [
    "grofers=1000\n",
    "bigbasket=1800\n",
    "plt.bar(['grofers','bigbasket'],[grofers,bigbasket],color=['red','blue'],alpha=0.5,width=0.2)\n",
    "plt.xlabel('company')\n",
    "plt.ylabel('no. of stores')\n",
    "plt.grid()\n",
    "plt.show()\n"
   ]
  },
  {
   "cell_type": "code",
   "execution_count": 213,
   "metadata": {},
   "outputs": [
    {
     "data": {
      "image/png": "[encoded data removed]",
      "text/plain": [
       "<Figure size 432x288 with 1 Axes>"
      ]
     },
     "metadata": {
      "needs_background": "light"
     },
     "output_type": "display_data"
    }
   ],
   "source": [
    "grofers=17\n",
    "bigbasket=29\n",
    "plt.bar(['grofers','bigbasket'],[grofers,bigbasket],color=['red','blue'],alpha=0.5,width=0.2)\n",
    "plt.xlabel('company')\n",
    "plt.ylabel('no. of cities india')\n",
    "plt.grid()\n",
    "plt.show()\n"
   ]
  },
  {
   "cell_type": "code",
   "execution_count": 214,
   "metadata": {},
   "outputs": [
    {
     "data": {
      "image/png": "[encoded data removed]",
      "text/plain": [
       "<Figure size 432x288 with 1 Axes>"
      ]
     },
     "metadata": {
      "needs_background": "light"
     },
     "output_type": "display_data"
    }
   ],
   "source": [
    "#no of products\n",
    "grofers=1000\n",
    "bigbasket=1800\n",
    "plt.bar(['grofers','bigbasket'],[grofers,bigbasket],color=['red','blue'],alpha=0.5,width=0.2)\n",
    "plt.ylabel('no. of product varieties')\n",
    "plt.grid()\n",
    "plt.show()"
   ]
  },
  {
   "cell_type": "code",
   "execution_count": 216,
   "metadata": {},
   "outputs": [
    {
     "data": {
      "image/png": "[encoded data removed]",
      "text/plain": [
       "<Figure size 432x288 with 1 Axes>"
      ]
     },
     "metadata": {
      "needs_background": "light"
     },
     "output_type": "display_data"
    }
   ],
   "source": [
    "#mininum order price for free delivery\n",
    "grofers=250\n",
    "bigbasket=600\n",
    "plt.bar(['grofers','bigbasket'],[grofers,bigbasket],color=['red','blue'],alpha=0.5,width=0.2)\n",
    "plt.xlabel('company')\n",
    "plt.ylabel('min order value for free delivery')\n",
    "plt.grid()\n",
    "plt.show()"
   ]
  },
  {
   "cell_type": "markdown",
   "metadata": {},
   "source": [
    "# 4 market share"
   ]
  },
  {
   "cell_type": "code",
   "execution_count": 218,
   "metadata": {},
   "outputs": [
    {
     "data": {
      "image/png": "[encoded data removed]",
      "text/plain": [
       "<Figure size 432x288 with 1 Axes>"
      ]
     },
     "metadata": {},
     "output_type": "display_data"
    }
   ],
   "source": [
    "#market share\n",
    "bigbasket=65.2\n",
    "grofers=31.8\n",
    "zopnow=3\n",
    "amazon=30\n",
    "labels=['BB','grofers','zopnow','amazon']\n",
    "explode=(0.1,0,0,0)\n",
    "size=[bigbasket,grofers,zopnow,amazon]\n",
    "plt.pie(size,explode=explode,labels=labels,autopct='%1.1f%%',shadow=True,startangle=90)\n",
    "plt.axis('equal')\n",
    "plt.show()"
   ]
  },
  {
   "cell_type": "code",
   "execution_count": 220,
   "metadata": {},
   "outputs": [
    {
     "data": {
      "image/png": "[encoded data removed]",
      "text/plain": [
       "<Figure size 432x288 with 1 Axes>"
      ]
     },
     "metadata": {
      "needs_background": "light"
     },
     "output_type": "display_data"
    }
   ],
   "source": [
    "#order per day\n",
    "grofers=1000\n",
    "bigbasket=20000\n",
    "plt.bar(['grofers','bigbasket'],[grofers,bigbasket],color=['red','blue'],lw=0.01,width=0.3,align='center',alpha=0.5)\n",
    "plt.xlabel('company')\n",
    "plt.ylabel(' no. of orders per day')\n",
    "plt.grid()\n",
    "plt.show()"
   ]
  },
  {
   "cell_type": "markdown",
   "metadata": {},
   "source": [
    "# 5 WEBSITE COMPETITIVE ANALYSIS"
   ]
  },
  {
   "cell_type": "code",
   "execution_count": 115,
   "metadata": {},
   "outputs": [],
   "source": [
    "columns=['websites','global_ranking','indian_ranking']\n",
    "data1=pd.DataFrame(columns=columns)"
   ]
  },
  {
   "cell_type": "code",
   "execution_count": 120,
   "metadata": {},
   "outputs": [],
   "source": [
    "websites=['grofers.com','localbanya.com','bigbasket.com']\n",
    "global_ranking=[16178,19784,4067]\n",
    "data1.websites=websites\n",
    "indian_ranking=[1185,1664,310]\n",
    "\n",
    "data1.global_ranking=global_ranking\n",
    "data1.indian_ranking=indian_ranking\n"
   ]
  },
  {
   "cell_type": "code",
   "execution_count": 121,
   "metadata": {},
   "outputs": [
    {
     "data": {
      "text/html": [
       "<div>\n",
       "<style scoped>\n",
       "    .dataframe tbody tr th:only-of-type {\n",
       "        vertical-align: middle;\n",
       "    }\n",
       "\n",
       "    .dataframe tbody tr th {\n",
       "        vertical-align: top;\n",
       "    }\n",
       "\n",
       "    .dataframe thead th {\n",
       "        text-align: right;\n",
       "    }\n",
       "</style>\n",
       "<table border=\"1\" class=\"dataframe\">\n",
       "  <thead>\n",
       "    <tr style=\"text-align: right;\">\n",
       "      <th></th>\n",
       "      <th>websites</th>\n",
       "      <th>global_ranking</th>\n",
       "      <th>indian_ranking</th>\n",
       "    </tr>\n",
       "  </thead>\n",
       "  <tbody>\n",
       "    <tr>\n",
       "      <th>0</th>\n",
       "      <td>grofers.com</td>\n",
       "      <td>16178</td>\n",
       "      <td>1185</td>\n",
       "    </tr>\n",
       "    <tr>\n",
       "      <th>1</th>\n",
       "      <td>localbanya.com</td>\n",
       "      <td>19784</td>\n",
       "      <td>1664</td>\n",
       "    </tr>\n",
       "    <tr>\n",
       "      <th>2</th>\n",
       "      <td>bigbasket.com</td>\n",
       "      <td>4067</td>\n",
       "      <td>310</td>\n",
       "    </tr>\n",
       "  </tbody>\n",
       "</table>\n",
       "</div>"
      ],
      "text/plain": [
       "         websites  global_ranking  indian_ranking\n",
       "0     grofers.com           16178            1185\n",
       "1  localbanya.com           19784            1664\n",
       "2   bigbasket.com            4067             310"
      ]
     },
     "execution_count": 121,
     "metadata": {},
     "output_type": "execute_result"
    }
   ],
   "source": [
    "data1.head()"
   ]
  },
  {
   "cell_type": "code",
   "execution_count": 221,
   "metadata": {},
   "outputs": [
    {
     "data": {
      "image/png": "[encoded data removed]",
      "text/plain": [
       "<Figure size 432x288 with 1 Axes>"
      ]
     },
     "metadata": {
      "needs_background": "light"
     },
     "output_type": "display_data"
    },
    {
     "data": {
      "image/png": "[encoded data removed]",
      "text/plain": [
       "<Figure size 432x288 with 1 Axes>"
      ]
     },
     "metadata": {
      "needs_background": "light"
     },
     "output_type": "display_data"
    }
   ],
   "source": [
    "plt.subplot\n",
    "plt.bar(websites,global_ranking,color=['red','green','blue'],align='center',alpha=0.5,width=0.5)\n",
    "plt.xlabel('website')\n",
    "plt.ylabel('global  ranking')\n",
    "plt.grid()\n",
    "plt.show()\n",
    "plt.bar(websites,indian_ranking,color=['red','green','blue'],align='center',alpha=0.5,width=0.5)\n",
    "plt.xlabel('website')\n",
    "plt.ylabel('india  ranking')\n",
    "plt.grid()\n",
    "plt.show()"
   ]
  },
  {
   "cell_type": "markdown",
   "metadata": {},
   "source": [
    "# 6 employees,revenue,fundings"
   ]
  },
  {
   "cell_type": "code",
   "execution_count": 135,
   "metadata": {},
   "outputs": [
    {
     "data": {
      "text/html": [
       "<div>\n",
       "<style scoped>\n",
       "    .dataframe tbody tr th:only-of-type {\n",
       "        vertical-align: middle;\n",
       "    }\n",
       "\n",
       "    .dataframe tbody tr th {\n",
       "        vertical-align: top;\n",
       "    }\n",
       "\n",
       "    .dataframe thead th {\n",
       "        text-align: right;\n",
       "    }\n",
       "</style>\n",
       "<table border=\"1\" class=\"dataframe\">\n",
       "  <thead>\n",
       "    <tr style=\"text-align: right;\">\n",
       "      <th></th>\n",
       "      <th>company</th>\n",
       "      <th>employees</th>\n",
       "      <th>total_funding</th>\n",
       "      <th>revenue</th>\n",
       "    </tr>\n",
       "  </thead>\n",
       "  <tbody>\n",
       "    <tr>\n",
       "      <th>0</th>\n",
       "      <td>grofers</td>\n",
       "      <td>7500</td>\n",
       "      <td>517.0</td>\n",
       "      <td>400.0</td>\n",
       "    </tr>\n",
       "    <tr>\n",
       "      <th>1</th>\n",
       "      <td>BB</td>\n",
       "      <td>10000</td>\n",
       "      <td>726.9</td>\n",
       "      <td>460.0</td>\n",
       "    </tr>\n",
       "    <tr>\n",
       "      <th>2</th>\n",
       "      <td>DMART</td>\n",
       "      <td>164</td>\n",
       "      <td>27.7</td>\n",
       "      <td>3.2</td>\n",
       "    </tr>\n",
       "  </tbody>\n",
       "</table>\n",
       "</div>"
      ],
      "text/plain": [
       "   company  employees  total_funding  revenue\n",
       "0  grofers       7500          517.0    400.0\n",
       "1       BB      10000          726.9    460.0\n",
       "2    DMART        164           27.7      3.2"
      ]
     },
     "execution_count": 135,
     "metadata": {},
     "output_type": "execute_result"
    }
   ],
   "source": [
    "colums=['company','employees','total_funding','revenue']\n",
    "employees=[7500,10000,164]\n",
    "fundings=[517,726.9,27.7]#in million dollars\n",
    "revenue=[400,460,3.2] \n",
    "company=['grofers','BB','DMART']\n",
    "data2=pd.DataFrame(columns=colums)\n",
    "data2.company=company\n",
    "data2.total_funding=fundings\n",
    "data2.employees=employees\n",
    "data2.revenue=revenue\n",
    "data2\n"
   ]
  },
  {
   "cell_type": "code",
   "execution_count": 151,
   "metadata": {},
   "outputs": [
    {
     "data": {
      "image/png": "[encoded data removed]",
      "text/plain": [
       "<Figure size 432x288 with 1 Axes>"
      ]
     },
     "metadata": {
      "needs_background": "light"
     },
     "output_type": "display_data"
    }
   ],
   "source": [
    "labels=company\n",
    "pos=list(range(len(data2['employees'])))\n",
    "width=0.25\n",
    "fig,ax=plt.subplots()\n",
    "plt.bar(pos,data2['employees'],width,alpha=0.5,color='red',label=labels[0])\n",
    "plt.bar([p+width for p in pos],data2['total_funding'],width,alpha=0.5,color='green',label=labels[1])\n",
    "plt.bar([p + width*2 for p in pos],data2['revenue'],width, alpha=0.5, color='blue', label=labels[2])\n",
    "ax.set_ylabel('companies')\n",
    "ax.set_xticks([p + 1.5 * width for p in pos])\n",
    "ax.set_xticklabels(labels)\n",
    "plt.legend(labels, loc='upper left')\n",
    "plt.grid()\n",
    "plt.show()"
   ]
  },
  {
   "cell_type": "code",
   "execution_count": null,
   "metadata": {},
   "outputs": [],
   "source": []
  }
 ],
 "metadata": {
  "kernelspec": {
   "display_name": "Python 3",
   "language": "python",
   "name": "python3"
  },
  "language_info": {
   "codemirror_mode": {
    "name": "ipython",
    "version": 3
   },
   "file_extension": ".py",
   "mimetype": "text/x-python",
   "name": "python",
   "nbconvert_exporter": "python",
   "pygments_lexer": "ipython3",
   "version": "3.7.1"
  }
 },
 "nbformat": 4,
 "nbformat_minor": 2
}
